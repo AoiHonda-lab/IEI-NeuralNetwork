{
 "cells": [
  {
   "cell_type": "markdown",
   "metadata": {
    "id": "2XHlBINWI-hS"
   },
   "source": [
    "# Google Colaboratory を利用した ieinn ライブラリの使用例\n",
    "Google Colaboratory(以下 Google Colab)を利用すれば、簡単に Python の実行環境を構築できます. GPU も無料で使用できます. ここでは Google Colab を利用した ieinn ライブラリの使用例を紹介します. \n",
    "## ieinnライブラリを環境に複製し、移動します。"
   ]
  },
  {
   "cell_type": "code",
   "execution_count": null,
   "metadata": {
    "colab": {
     "base_uri": "https://localhost:8080/"
    },
    "executionInfo": {
     "elapsed": 296,
     "status": "ok",
     "timestamp": 1685600485337,
     "user": {
      "displayName": "Aoi HONDA",
      "userId": "08010918810275718950"
     },
     "user_tz": -540
    },
    "id": "crDyymuJ7G-s",
    "outputId": "5f717fdb-403d-450e-c6c8-2fb31da3ce98",
    "scrolled": true
   },
   "outputs": [],
   "source": [
    "!git clone https://github.com/AoiHonda-lab/IEI-NeuralNetwork.git"
   ]
  },
  {
   "cell_type": "code",
   "execution_count": null,
   "metadata": {
    "colab": {
     "base_uri": "https://localhost:8080/"
    },
    "executionInfo": {
     "elapsed": 2,
     "status": "ok",
     "timestamp": 1685882857174,
     "user": {
      "displayName": "Aoi HONDA",
      "userId": "08010918810275718950"
     },
     "user_tz": -540
    },
    "id": "uEdxJs1L7Kzq",
    "outputId": "9ce83017-0b72-44a6-bffa-bae37fcf9b20"
   },
   "outputs": [],
   "source": [
    "%cd IEI-NeuralNetwork"
   ]
  },
  {
   "cell_type": "markdown",
   "metadata": {
    "id": "t3UsTarFKnIG"
   },
   "source": [
    "## 必要なライブラリをインポートします"
   ]
  },
  {
   "cell_type": "code",
   "execution_count": null,
   "metadata": {
    "executionInfo": {
     "elapsed": 6673,
     "status": "ok",
     "timestamp": 1685882865651,
     "user": {
      "displayName": "Aoi HONDA",
      "userId": "08010918810275718950"
     },
     "user_tz": -540
    },
    "id": "hU4blClE7MpZ"
   },
   "outputs": [],
   "source": [
    "import pandas as pd\n",
    "import torch\n",
    "import torch.nn as nn\n",
    "import csv\n",
    "from sklearn.model_selection import train_test_split\n",
    "from ieinn import ieinn"
   ]
  },
  {
   "cell_type": "markdown",
   "metadata": {
    "id": "6Z8hZB391Bsx"
   },
   "source": [
    "GPUが使える場合は deviceに cuda を設定、そうでなければ cpu を設定します。"
   ]
  },
  {
   "cell_type": "code",
   "execution_count": 1,
   "metadata": {
    "colab": {
     "base_uri": "https://localhost:8080/"
    },
    "executionInfo": {
     "elapsed": 340,
     "status": "ok",
     "timestamp": 1685882866934,
     "user": {
      "displayName": "Aoi HONDA",
      "userId": "08010918810275718950"
     },
     "user_tz": -540
    },
    "id": "w5Vb1Q-77Vrz",
    "outputId": "e2438115-aff4-4b99-d944-fb276d8651f7"
   },
   "outputs": [
    {
     "name": "stdout",
     "output_type": "stream",
     "text": [
      "cpu\n"
     ]
    }
   ],
   "source": [
    "#device = 'cuda' if torch.cuda.is_available() else 'cpu'\n",
    "device ='cpu'\n",
    "print(device)"
   ]
  },
  {
   "cell_type": "markdown",
   "metadata": {
    "id": "6GN86YW-KxOZ"
   },
   "source": [
    "## データの読み込み\n",
    "データの読み込みと、訓練データと検証データへの分割などの処理をします。"
   ]
  },
  {
   "cell_type": "code",
   "execution_count": null,
   "metadata": {
    "executionInfo": {
     "elapsed": 704,
     "status": "ok",
     "timestamp": 1685882870251,
     "user": {
      "displayName": "Aoi HONDA",
      "userId": "08010918810275718950"
     },
     "user_tz": -540
    },
    "id": "aZIf79Fm7cnq"
   },
   "outputs": [],
   "source": [
    "df=pd.read_csv('CarEvaluation20221207.csv',encoding=\"shift-jis\")\n",
    "df=df.drop(0,axis=0)\n",
    "df=df.astype(float)\n",
    "\n",
    "y=pd.DataFrame(df.iloc[:,0])\n",
    "X=df.drop(df.columns[[0]], axis=1)\n",
    "\n",
    "#Normalize the objective variable\n",
    "y=(y - y.min()) / (y.max() - y.min())\n",
    "\n",
    "# data Generating\n",
    "X_train, X_test, y_train, y_test = train_test_split(X, y, test_size=0.2, random_state=42)\n",
    "X_train_df=X_train\n",
    "y_train_df=y_train\n",
    "\n",
    "# Extract as a numpy array with value and convert to tensor\n",
    "X_train = torch.FloatTensor(X_train.values)\n",
    "y_train = torch.FloatTensor(y_train.values)\n",
    "X_test = torch.FloatTensor(X_test.values)\n",
    "y_test = torch.FloatTensor(y_test.values)"
   ]
  },
  {
   "cell_type": "code",
   "execution_count": null,
   "metadata": {
    "colab": {
     "base_uri": "https://localhost:8080/"
    },
    "executionInfo": {
     "elapsed": 254,
     "status": "ok",
     "timestamp": 1685882874259,
     "user": {
      "displayName": "Aoi HONDA",
      "userId": "08010918810275718950"
     },
     "user_tz": -540
    },
    "id": "WP72IhNK72Qs",
    "outputId": "570620f6-c6d1-48a4-cef1-e8edf15d500f"
   },
   "outputs": [],
   "source": [
    "print(df)"
   ]
  },
  {
   "cell_type": "markdown",
   "metadata": {
    "id": "T4F2AujmLLfC"
   },
   "source": [
    "## データセット、データローダを作成\n",
    "訓練データ、テストデータでそれぞれデータセットを作成し、これらを引数としてデータローダーを作成します。ミニバッチサイズやシャッフルの指定をします。"
   ]
  },
  {
   "cell_type": "code",
   "execution_count": null,
   "metadata": {
    "executionInfo": {
     "elapsed": 297,
     "status": "ok",
     "timestamp": 1685882882133,
     "user": {
      "displayName": "Aoi HONDA",
      "userId": "08010918810275718950"
     },
     "user_tz": -540
    },
    "id": "hNdy-e8o8yWE"
   },
   "outputs": [],
   "source": [
    "# Dataset creating\n",
    "train_dataset = torch.utils.data.TensorDataset(X_train, y_train)\n",
    "test_dataset = torch.utils.data.TensorDataset(X_test, y_test)\n",
    "\n",
    "# DataLoade creating\n",
    "train_loader = torch.utils.data.DataLoader(dataset=train_dataset, batch_size=64, shuffle=True, num_workers=2, generator=torch.Generator(device=device))\n",
    "#train_loader = torch.utils.data.DataLoader(dataset=train_dataset, batch_size=128, shuffle=True, num_workers=2)\n",
    "\n",
    "test_loader = torch.utils.data.DataLoader(dataset=test_dataset, batch_size=64, shuffle=False, num_workers=2, generator=torch.Generator(device=device))\n",
    "#test_loader = torch.utils.data.DataLoader(dataset=test_dataset, batch_size=128, shuffle=False, num_workers=2)"
   ]
  },
  {
   "cell_type": "markdown",
   "metadata": {
    "id": "apwWdrL1Lr0r"
   },
   "source": [
    "## 学習モデルの作成\n",
    "インポートした ieinn の IE クラスでモデルを作成します。引数として、訓練データローダ－、ファジィ測度の加法性の次数、積分に用いる多項演算、前処理の種類を渡します。\n",
    "訓練データローダは、上で作成した train_loader、加法性の次数は1から説明変数の数までの整数を渡します。多項演算は、論理積:Min、代数積:Algebraic、限界積:Lukasiewiczなどのt-norm が準備されています。前処理は、PreprocessingLayerPercentile, PreprocessingLayerStandardDeviation, PreprocessingLayerMaxMin から選べます。加法性次数、多項演算、前処理手法を指定しない場合、デフォルトはそれぞれ、完全非加法、代数積、PreprocessingLayerPercentile となっています。"
   ]
  },
  {
   "cell_type": "code",
   "execution_count": null,
   "metadata": {
    "colab": {
     "base_uri": "https://localhost:8080/"
    },
    "executionInfo": {
     "elapsed": 5691,
     "status": "ok",
     "timestamp": 1685882898906,
     "user": {
      "displayName": "Aoi HONDA",
      "userId": "08010918810275718950"
     },
     "user_tz": -540
    },
    "id": "AQtrN1oX9MRW",
    "outputId": "1849d330-f900-4e70-a8b1-8370c26aabe5"
   },
   "outputs": [],
   "source": [
    "model=ieinn.IE(train_loader,additivity_order=4,narray_op='Min').to(device)\n",
    "criterion = nn.MSELoss() #loss function\n",
    "optimizer = torch.optim.Adam(model.parameters()) #Optimization method\n",
    "print(model)"
   ]
  },
  {
   "cell_type": "markdown",
   "metadata": {
    "id": "DtKOYZfdN_Jf"
   },
   "source": [
    "## 学習前のパラメータを確認"
   ]
  },
  {
   "cell_type": "code",
   "execution_count": null,
   "metadata": {
    "colab": {
     "base_uri": "https://localhost:8080/"
    },
    "executionInfo": {
     "elapsed": 279,
     "status": "ok",
     "timestamp": 1685882901417,
     "user": {
      "displayName": "Aoi HONDA",
      "userId": "08010918810275718950"
     },
     "user_tz": -540
    },
    "id": "RUMFQvYu9XUj",
    "outputId": "2ec7e9b1-8445-4ca7-8e52-ffeed16d9ba3"
   },
   "outputs": [],
   "source": [
    "model.state_dict()"
   ]
  },
  {
   "cell_type": "markdown",
   "metadata": {
    "id": "Xj7kwFeaOGYy"
   },
   "source": [
    "## 学習の実行"
   ]
  },
  {
   "cell_type": "code",
   "execution_count": null,
   "metadata": {
    "colab": {
     "base_uri": "https://localhost:8080/"
    },
    "executionInfo": {
     "elapsed": 258159,
     "status": "ok",
     "timestamp": 1685883162689,
     "user": {
      "displayName": "Aoi HONDA",
      "userId": "08010918810275718950"
     },
     "user_tz": -540
    },
    "id": "NtPVf9-M9dAE",
    "outputId": "8bdf0971-6098-4cb0-ef06-5d4d54f7ea7e"
   },
   "outputs": [],
   "source": [
    "if (device == 'cuda'):\n",
    "  torch.set_default_tensor_type('torch.cuda.FloatTensor')\n",
    "history=model.fit_and_valid(train_loader, test_loader, criterion, optimizer, epochs=100, device=device)"
   ]
  },
  {
   "cell_type": "markdown",
   "metadata": {
    "id": "AYKGngVUOLWJ"
   },
   "source": [
    "## 学習結果の表示\n",
    "学習後の決定係数、パラメータ、学習曲線を表示します。"
   ]
  },
  {
   "cell_type": "code",
   "execution_count": null,
   "metadata": {
    "colab": {
     "base_uri": "https://localhost:8080/"
    },
    "executionInfo": {
     "elapsed": 318,
     "status": "ok",
     "timestamp": 1685883171761,
     "user": {
      "displayName": "Aoi HONDA",
      "userId": "08010918810275718950"
     },
     "user_tz": -540
    },
    "id": "AYSKSRSE_inD",
    "outputId": "d52ed0f2-5c04-47b6-d265-8e4355227e50"
   },
   "outputs": [],
   "source": [
    "model.r2_score(test_loader,device)"
   ]
  },
  {
   "cell_type": "code",
   "execution_count": null,
   "metadata": {
    "colab": {
     "base_uri": "https://localhost:8080/"
    },
    "executionInfo": {
     "elapsed": 260,
     "status": "ok",
     "timestamp": 1685883174165,
     "user": {
      "displayName": "Aoi HONDA",
      "userId": "08010918810275718950"
     },
     "user_tz": -540
    },
    "id": "zKKuuTSL-YdO",
    "outputId": "5c0d6d56-a43f-4d31-b411-406b5a9ae4b1"
   },
   "outputs": [],
   "source": [
    "model.state_dict()"
   ]
  },
  {
   "cell_type": "code",
   "execution_count": null,
   "metadata": {
    "colab": {
     "base_uri": "https://localhost:8080/",
     "height": 545
    },
    "executionInfo": {
     "elapsed": 433,
     "status": "ok",
     "timestamp": 1685883177539,
     "user": {
      "displayName": "Aoi HONDA",
      "userId": "08010918810275718950"
     },
     "user_tz": -540
    },
    "id": "HmaUGv0YFBPC",
    "outputId": "81f4c4bd-44cc-4992-b0b9-757079c21973"
   },
   "outputs": [],
   "source": [
    "model.plot()"
   ]
  },
  {
   "cell_type": "code",
   "execution_count": null,
   "metadata": {
    "colab": {
     "base_uri": "https://localhost:8080/",
     "height": 545
    },
    "executionInfo": {
     "elapsed": 5,
     "status": "ok",
     "timestamp": 1685883183583,
     "user": {
      "displayName": "Aoi HONDA",
      "userId": "08010918810275718950"
     },
     "user_tz": -540
    },
    "id": "AEEvm7v-_Loz",
    "outputId": "b8d324a5-c7d2-407c-9919-32237b945ecf"
   },
   "outputs": [],
   "source": [
    "model.plot_train()"
   ]
  },
  {
   "cell_type": "code",
   "execution_count": null,
   "metadata": {
    "colab": {
     "base_uri": "https://localhost:8080/",
     "height": 545
    },
    "executionInfo": {
     "elapsed": 502,
     "status": "ok",
     "timestamp": 1685883184081,
     "user": {
      "displayName": "Aoi HONDA",
      "userId": "08010918810275718950"
     },
     "user_tz": -540
    },
    "id": "tv86_fVM_fnL",
    "outputId": "a7ea2166-c5bf-4530-f7b3-0b926fbfdca9"
   },
   "outputs": [],
   "source": [
    "model.plot_test()"
   ]
  }
 ],
 "metadata": {
  "accelerator": "GPU",
  "colab": {
   "authorship_tag": "ABX9TyOXI/QJftkZRX5ycDFRN1i5",
   "provenance": [
    {
     "file_id": "1BZrAiMJQxLXm9_3HEe_m3N3eNcXs4yWx",
     "timestamp": 1685600322377
    }
   ]
  },
  "gpuClass": "standard",
  "kernelspec": {
   "display_name": "Python 3 (ipykernel)",
   "language": "python",
   "name": "python3"
  },
  "language_info": {
   "codemirror_mode": {
    "name": "ipython",
    "version": 3
   },
   "file_extension": ".py",
   "mimetype": "text/x-python",
   "name": "python",
   "nbconvert_exporter": "python",
   "pygments_lexer": "ipython3",
   "version": "3.8.13"
  }
 },
 "nbformat": 4,
 "nbformat_minor": 1
}
