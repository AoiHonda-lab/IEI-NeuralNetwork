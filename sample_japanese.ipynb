{
  "cells": [
    {
      "cell_type": "markdown",
      "metadata": {
        "id": "2XHlBINWI-hS"
      },
      "source": [
        "# Google Colaboratory を利用した ieinn ライブラリの使用例\n",
        "Google Colaboratory(以下 Google Colab)を利用すれば、簡単に Python の実行環境を構築できます. GPU も無料で使用できます. ここでは Google Colab を利用した ieinn ライブラリの使用例を紹介します.\n",
        "## Google drive をマウントし, ieinn ライブラリを Google drive にダウンロードします。"
      ]
    },
    {
      "cell_type": "code",
      "execution_count": 1,
      "metadata": {
        "colab": {
          "base_uri": "https://localhost:8080/"
        },
        "id": "ugNqVSo0BaR1",
        "outputId": "77b17c44-0fd1-4757-f9e2-5e22d83b832f"
      },
      "outputs": [
        {
          "output_type": "stream",
          "name": "stdout",
          "text": [
            "Cloning into 'IEI-NeuralNetwork'...\n",
            "remote: Enumerating objects: 168, done.\u001b[K\n",
            "remote: Counting objects: 100% (46/46), done.\u001b[K\n",
            "remote: Compressing objects: 100% (33/33), done.\u001b[K\n",
            "remote: Total 168 (delta 28), reused 13 (delta 13), pack-reused 122 (from 1)\u001b[K\n",
            "Receiving objects: 100% (168/168), 371.40 KiB | 1.41 MiB/s, done.\n",
            "Resolving deltas: 100% (73/73), done.\n",
            "/content/IEI-NeuralNetwork\n"
          ]
        }
      ],
      "source": [
        "!git clone https://github.com/AoiHonda-lab/IEI-NeuralNetwork.git\n",
        "%cd IEI-NeuralNetwork"
      ]
    },
    {
      "cell_type": "markdown",
      "metadata": {
        "id": "t3UsTarFKnIG"
      },
      "source": [
        "## 必要なライブラリをインポートします"
      ]
    },
    {
      "cell_type": "code",
      "execution_count": 2,
      "metadata": {
        "id": "hU4blClE7MpZ"
      },
      "outputs": [],
      "source": [
        "import pandas as pd\n",
        "import torch\n",
        "import torch.nn as nn\n",
        "import csv\n",
        "from sklearn.model_selection import train_test_split\n",
        "from ieinn import ieinn"
      ]
    },
    {
      "cell_type": "markdown",
      "metadata": {
        "id": "6Z8hZB391Bsx"
      },
      "source": [
        "GPUが使える場合は deviceに cuda を設定、そうでなければ cpu を設定します。"
      ]
    },
    {
      "cell_type": "code",
      "execution_count": 3,
      "metadata": {
        "colab": {
          "base_uri": "https://localhost:8080/"
        },
        "id": "w5Vb1Q-77Vrz",
        "outputId": "e03b1252-5a5f-4dae-d4c3-53aaa1a960fd"
      },
      "outputs": [
        {
          "output_type": "stream",
          "name": "stdout",
          "text": [
            "cuda\n"
          ]
        }
      ],
      "source": [
        "device = 'cuda' if torch.cuda.is_available() else 'cpu'\n",
        "print(device)"
      ]
    },
    {
      "cell_type": "markdown",
      "metadata": {
        "id": "6GN86YW-KxOZ"
      },
      "source": [
        "## データの読み込み\n",
        "データの読み込みと、訓練データと検証データへの分割などの処理をします。"
      ]
    },
    {
      "cell_type": "code",
      "execution_count": 4,
      "metadata": {
        "id": "aZIf79Fm7cnq"
      },
      "outputs": [],
      "source": [
        "df=pd.read_csv('CarEvaluation.csv',encoding=\"shift-jis\")\n",
        "df=df.drop(0,axis=0)\n",
        "df=df.astype(float)\n",
        "\n",
        "y=pd.DataFrame(df.iloc[:,0])\n",
        "X=pd.DataFrame(df.iloc[:,1:])\n",
        "\n",
        "#Normalize the objective variable\n",
        "\n",
        "X=(X - X.min()) / (X.max() - X.min())\n",
        "y=(y - y.min()) / (y.max() - y.min())\n",
        "\n",
        "# data Generating\n",
        "X_train, X_test, y_train, y_test = train_test_split(X, y, test_size=0.2, random_state=42)\n",
        "\n",
        "# Extract as a numpy array with value and convert to tensor\n",
        "X_train = torch.FloatTensor(X_train.values)\n",
        "y_train = torch.FloatTensor(y_train.values)\n",
        "X_test = torch.FloatTensor(X_test.values)\n",
        "y_test = torch.FloatTensor(y_test.values)"
      ]
    },
    {
      "cell_type": "markdown",
      "metadata": {
        "id": "T4F2AujmLLfC"
      },
      "source": [
        "## データセット、データローダを作成\n",
        "訓練データ、テストデータでそれぞれデータセットを作成し、これらを引数としてデータローダーを作成します。ミニバッチサイズやシャッフルの指定をします。"
      ]
    },
    {
      "cell_type": "code",
      "execution_count": 5,
      "metadata": {
        "id": "hNdy-e8o8yWE"
      },
      "outputs": [],
      "source": [
        "# Dataset creating\n",
        "import os\n",
        "train_dataset = torch.utils.data.TensorDataset(X_train, y_train)\n",
        "test_dataset = torch.utils.data.TensorDataset(X_test, y_test)\n",
        "\n",
        "# DataLoade creating\n",
        "train_loader = torch.utils.data.DataLoader(dataset=train_dataset,\n",
        "                                           batch_size=128,\n",
        "                                           shuffle=True,\n",
        "                                           # persistent_workers=(os.name == 'nt'),# for Win\n",
        "                                           num_workers=2)\n",
        "\n",
        "test_loader = torch.utils.data.DataLoader(dataset=test_dataset,\n",
        "                                          batch_size=128,\n",
        "                                          shuffle=False,\n",
        "                                          # persistent_workers=(os.name == 'nt'),# for Win\n",
        "                                          num_workers=2)"
      ]
    },
    {
      "cell_type": "markdown",
      "metadata": {
        "id": "apwWdrL1Lr0r"
      },
      "source": [
        "## 学習モデルの作成\n",
        "インポートした ieinn の IE クラスでモデルを生成します。引数として、訓練データローダ－、加法性の指定、多項演算子、前処理クラス、device(cpuまたはcuda)を渡します。\n",
        "\n",
        "訓練データローダは、上で作成した train_loader、加法性の次数は1から説明変数の数までの整数を渡します。多項演算は、論理積:Min、代数積:Algebraic、限界積:Lukasiewiczなどのt-norm が準備されています。前処理は、PreprocessingLayerPercentile, PreprocessingLayerStandardDeviation, PreprocessingLayerMaxMin から選べます。\n",
        "\n",
        "加法性、多項演算子、前処理手法を指定しない場合、デフォルトはそれぞれ、完全非加法、代数積、PreprocessingLayerPercentile となっています。"
      ]
    },
    {
      "cell_type": "code",
      "execution_count": 6,
      "metadata": {
        "colab": {
          "base_uri": "https://localhost:8080/"
        },
        "id": "AQtrN1oX9MRW",
        "outputId": "d0aa7a20-4eac-4f05-f573-2a5975091cb4"
      },
      "outputs": [
        {
          "output_type": "stream",
          "name": "stdout",
          "text": [
            "IE(\n",
            "  (preprocessing1): PreprocessingLayerStandardDeviation()\n",
            "  (preprocessing2): PreprocessingLayerStandardDeviation()\n",
            "  (preprocessing3): PreprocessingLayerStandardDeviation()\n",
            "  (preprocessing4): PreprocessingLayerStandardDeviation()\n",
            "  (preprocessing5): PreprocessingLayerStandardDeviation()\n",
            "  (preprocessing6): PreprocessingLayerStandardDeviation()\n",
            "  (iei): Algebraic()\n",
            "  (output): OutputLayer()\n",
            ")\n"
          ]
        }
      ],
      "source": [
        "model=ieinn.IE(train_loader, additivity_order=2, narray_op='Algebraic',preprocessing='PreprocessingLayerStandardDeviation', device=device).to(device)\n",
        "criterion = nn.MSELoss() #loss function\n",
        "optimizer = torch.optim.Adam(model.parameters()) #Optimization method\n",
        "print(model)"
      ]
    },
    {
      "cell_type": "markdown",
      "metadata": {
        "id": "DtKOYZfdN_Jf"
      },
      "source": [
        "## 学習前のパラメータを確認"
      ]
    },
    {
      "cell_type": "code",
      "execution_count": 7,
      "metadata": {
        "colab": {
          "base_uri": "https://localhost:8080/"
        },
        "id": "RUMFQvYu9XUj",
        "outputId": "9e63a833-0ad9-4fe5-f1fe-2f959ba029a3"
      },
      "outputs": [
        {
          "output_type": "execute_result",
          "data": {
            "text/plain": [
              "OrderedDict([('preprocessing1.weight', tensor([[1.0083]], device='cuda:0')),\n",
              "             ('preprocessing1.bias', tensor([-0.5100], device='cuda:0')),\n",
              "             ('preprocessing2.weight', tensor([[1.0165]], device='cuda:0')),\n",
              "             ('preprocessing2.bias', tensor([-0.5058], device='cuda:0')),\n",
              "             ('preprocessing3.weight', tensor([[1.0041]], device='cuda:0')),\n",
              "             ('preprocessing3.bias', tensor([-0.5011], device='cuda:0')),\n",
              "             ('preprocessing4.weight', tensor([[0.9245]], device='cuda:0')),\n",
              "             ('preprocessing4.bias', tensor([-0.4652], device='cuda:0')),\n",
              "             ('preprocessing5.weight', tensor([[0.9169]], device='cuda:0')),\n",
              "             ('preprocessing5.bias', tensor([-0.4578], device='cuda:0')),\n",
              "             ('preprocessing6.weight', tensor([[0.9170]], device='cuda:0')),\n",
              "             ('preprocessing6.bias', tensor([-0.4538], device='cuda:0')),\n",
              "             ('output.weight',\n",
              "              tensor([[0.1667, 0.1667, 0.1667, 0.1667, 0.1667, 0.1667, 0.0000, 0.0000, 0.0000,\n",
              "                       0.0000, 0.0000, 0.0000, 0.0000, 0.0000, 0.0000, 0.0000, 0.0000, 0.0000,\n",
              "                       0.0000, 0.0000, 0.0000]], device='cuda:0')),\n",
              "             ('output.bias', tensor([0.], device='cuda:0'))])"
            ]
          },
          "metadata": {},
          "execution_count": 7
        }
      ],
      "source": [
        "model.state_dict()"
      ]
    },
    {
      "cell_type": "markdown",
      "metadata": {
        "id": "Xj7kwFeaOGYy"
      },
      "source": [
        "## 学習の実行"
      ]
    },
    {
      "cell_type": "code",
      "execution_count": 8,
      "metadata": {
        "colab": {
          "base_uri": "https://localhost:8080/"
        },
        "id": "NtPVf9-M9dAE",
        "outputId": "200bc061-abfc-438f-b03b-163432b2f85b",
        "scrolled": true
      },
      "outputs": [
        {
          "output_type": "stream",
          "name": "stdout",
          "text": [
            "Epoch [1/300], loss: 0.15675091 val_loss: 0.12762206\n",
            "Epoch [2/300], loss: 0.11141765 val_loss: 0.09448851\n",
            "Epoch [3/300], loss: 0.08281764 val_loss: 0.07657088\n",
            "Epoch [4/300], loss: 0.06786041 val_loss: 0.06885835\n",
            "Epoch [5/300], loss: 0.06156719 val_loss: 0.06654522\n",
            "Epoch [6/300], loss: 0.05940256 val_loss: 0.06630849\n",
            "Epoch [7/300], loss: 0.05878455 val_loss: 0.06639477\n",
            "Epoch [8/300], loss: 0.05867631 val_loss: 0.06641485\n",
            "Epoch [9/300], loss: 0.05854252 val_loss: 0.06624928\n",
            "Epoch [10/300], loss: 0.05842524 val_loss: 0.06603461\n",
            "Epoch [11/300], loss: 0.05829788 val_loss: 0.06589141\n",
            "Epoch [12/300], loss: 0.05817301 val_loss: 0.06572868\n",
            "Epoch [13/300], loss: 0.05804916 val_loss: 0.06559365\n",
            "Epoch [14/300], loss: 0.05792516 val_loss: 0.06540454\n",
            "Epoch [15/300], loss: 0.05776704 val_loss: 0.06524769\n",
            "Epoch [16/300], loss: 0.05762430 val_loss: 0.06508617\n",
            "Epoch [17/300], loss: 0.05747322 val_loss: 0.06487755\n",
            "Epoch [18/300], loss: 0.05732567 val_loss: 0.06468393\n",
            "Epoch [19/300], loss: 0.05717792 val_loss: 0.06458540\n",
            "Epoch [20/300], loss: 0.05700641 val_loss: 0.06432287\n",
            "Epoch [21/300], loss: 0.05683443 val_loss: 0.06415143\n",
            "Epoch [22/300], loss: 0.05666382 val_loss: 0.06395932\n",
            "Epoch [23/300], loss: 0.05648277 val_loss: 0.06374481\n",
            "Epoch [24/300], loss: 0.05630312 val_loss: 0.06351951\n",
            "Epoch [25/300], loss: 0.05611834 val_loss: 0.06331382\n",
            "Epoch [26/300], loss: 0.05592593 val_loss: 0.06307249\n",
            "Epoch [27/300], loss: 0.05572327 val_loss: 0.06286274\n",
            "Epoch [28/300], loss: 0.05552984 val_loss: 0.06262160\n",
            "Epoch [29/300], loss: 0.05532497 val_loss: 0.06238642\n",
            "Epoch [30/300], loss: 0.05511494 val_loss: 0.06223001\n",
            "Epoch [31/300], loss: 0.05489742 val_loss: 0.06186263\n",
            "Epoch [32/300], loss: 0.05465962 val_loss: 0.06157679\n",
            "Epoch [33/300], loss: 0.05444453 val_loss: 0.06130764\n",
            "Epoch [34/300], loss: 0.05420043 val_loss: 0.06102960\n",
            "Epoch [35/300], loss: 0.05394614 val_loss: 0.06075152\n",
            "Epoch [36/300], loss: 0.05369611 val_loss: 0.06048622\n",
            "Epoch [37/300], loss: 0.05344389 val_loss: 0.06019975\n",
            "Epoch [38/300], loss: 0.05321505 val_loss: 0.05982203\n",
            "Epoch [39/300], loss: 0.05291005 val_loss: 0.05962693\n",
            "Epoch [40/300], loss: 0.05265147 val_loss: 0.05925918\n",
            "Epoch [41/300], loss: 0.05235771 val_loss: 0.05894592\n",
            "Epoch [42/300], loss: 0.05207807 val_loss: 0.05855446\n",
            "Epoch [43/300], loss: 0.05178301 val_loss: 0.05819606\n",
            "Epoch [44/300], loss: 0.05149077 val_loss: 0.05785783\n",
            "Epoch [45/300], loss: 0.05121402 val_loss: 0.05767136\n",
            "Epoch [46/300], loss: 0.05090061 val_loss: 0.05723317\n",
            "Epoch [47/300], loss: 0.05061197 val_loss: 0.05686030\n",
            "Epoch [48/300], loss: 0.05029935 val_loss: 0.05643808\n",
            "Epoch [49/300], loss: 0.04999465 val_loss: 0.05614571\n",
            "Epoch [50/300], loss: 0.04968706 val_loss: 0.05577513\n",
            "Epoch [51/300], loss: 0.04935658 val_loss: 0.05546447\n",
            "Epoch [52/300], loss: 0.04905707 val_loss: 0.05502421\n",
            "Epoch [53/300], loss: 0.04873416 val_loss: 0.05467530\n",
            "Epoch [54/300], loss: 0.04840048 val_loss: 0.05427779\n",
            "Epoch [55/300], loss: 0.04808044 val_loss: 0.05397320\n",
            "Epoch [56/300], loss: 0.04776576 val_loss: 0.05349028\n",
            "Epoch [57/300], loss: 0.04740306 val_loss: 0.05317066\n",
            "Epoch [58/300], loss: 0.04707988 val_loss: 0.05275373\n",
            "Epoch [59/300], loss: 0.04678444 val_loss: 0.05235847\n",
            "Epoch [60/300], loss: 0.04646121 val_loss: 0.05212627\n",
            "Epoch [61/300], loss: 0.04609290 val_loss: 0.05162489\n",
            "Epoch [62/300], loss: 0.04575971 val_loss: 0.05116599\n",
            "Epoch [63/300], loss: 0.04542155 val_loss: 0.05076044\n",
            "Epoch [64/300], loss: 0.04506728 val_loss: 0.05041517\n",
            "Epoch [65/300], loss: 0.04474618 val_loss: 0.05004618\n",
            "Epoch [66/300], loss: 0.04445462 val_loss: 0.04966884\n",
            "Epoch [67/300], loss: 0.04416551 val_loss: 0.04937471\n",
            "Epoch [68/300], loss: 0.04376704 val_loss: 0.04886152\n",
            "Epoch [69/300], loss: 0.04342285 val_loss: 0.04840625\n",
            "Epoch [70/300], loss: 0.04310169 val_loss: 0.04804224\n",
            "Epoch [71/300], loss: 0.04280936 val_loss: 0.04767512\n",
            "Epoch [72/300], loss: 0.04250720 val_loss: 0.04748497\n",
            "Epoch [73/300], loss: 0.04217962 val_loss: 0.04695311\n",
            "Epoch [74/300], loss: 0.04182024 val_loss: 0.04658549\n",
            "Epoch [75/300], loss: 0.04149563 val_loss: 0.04621772\n",
            "Epoch [76/300], loss: 0.04117153 val_loss: 0.04580267\n",
            "Epoch [77/300], loss: 0.04086810 val_loss: 0.04540554\n",
            "Epoch [78/300], loss: 0.04058064 val_loss: 0.04506405\n",
            "Epoch [79/300], loss: 0.04027833 val_loss: 0.04485931\n",
            "Epoch [80/300], loss: 0.03996863 val_loss: 0.04432155\n",
            "Epoch [81/300], loss: 0.03967438 val_loss: 0.04397750\n",
            "Epoch [82/300], loss: 0.03930964 val_loss: 0.04350158\n",
            "Epoch [83/300], loss: 0.03905755 val_loss: 0.04310428\n",
            "Epoch [84/300], loss: 0.03874076 val_loss: 0.04288934\n",
            "Epoch [85/300], loss: 0.03845174 val_loss: 0.04249477\n",
            "Epoch [86/300], loss: 0.03819278 val_loss: 0.04210935\n",
            "Epoch [87/300], loss: 0.03786675 val_loss: 0.04186597\n",
            "Epoch [88/300], loss: 0.03758741 val_loss: 0.04146736\n",
            "Epoch [89/300], loss: 0.03731886 val_loss: 0.04108505\n",
            "Epoch [90/300], loss: 0.03705417 val_loss: 0.04088732\n",
            "Epoch [91/300], loss: 0.03676651 val_loss: 0.04042191\n",
            "Epoch [92/300], loss: 0.03648906 val_loss: 0.04009286\n",
            "Epoch [93/300], loss: 0.03622809 val_loss: 0.03972174\n",
            "Epoch [94/300], loss: 0.03596186 val_loss: 0.03949386\n",
            "Epoch [95/300], loss: 0.03574554 val_loss: 0.03909044\n",
            "Epoch [96/300], loss: 0.03548408 val_loss: 0.03878260\n",
            "Epoch [97/300], loss: 0.03524416 val_loss: 0.03856069\n",
            "Epoch [98/300], loss: 0.03502153 val_loss: 0.03829926\n",
            "Epoch [99/300], loss: 0.03479123 val_loss: 0.03784522\n",
            "Epoch [100/300], loss: 0.03451627 val_loss: 0.03760901\n",
            "Epoch [101/300], loss: 0.03428860 val_loss: 0.03734213\n",
            "Epoch [102/300], loss: 0.03404000 val_loss: 0.03712928\n",
            "Epoch [103/300], loss: 0.03386468 val_loss: 0.03691372\n",
            "Epoch [104/300], loss: 0.03361281 val_loss: 0.03653975\n",
            "Epoch [105/300], loss: 0.03342603 val_loss: 0.03614727\n",
            "Epoch [106/300], loss: 0.03320440 val_loss: 0.03596666\n",
            "Epoch [107/300], loss: 0.03305204 val_loss: 0.03565985\n",
            "Epoch [108/300], loss: 0.03277958 val_loss: 0.03563881\n",
            "Epoch [109/300], loss: 0.03260036 val_loss: 0.03526259\n",
            "Epoch [110/300], loss: 0.03245596 val_loss: 0.03489345\n",
            "Epoch [111/300], loss: 0.03222869 val_loss: 0.03477120\n",
            "Epoch [112/300], loss: 0.03205534 val_loss: 0.03461200\n",
            "Epoch [113/300], loss: 0.03193471 val_loss: 0.03454732\n",
            "Epoch [114/300], loss: 0.03169956 val_loss: 0.03401026\n",
            "Epoch [115/300], loss: 0.03154245 val_loss: 0.03391077\n",
            "Epoch [116/300], loss: 0.03137400 val_loss: 0.03361153\n",
            "Epoch [117/300], loss: 0.03120625 val_loss: 0.03356183\n",
            "Epoch [118/300], loss: 0.03102386 val_loss: 0.03329812\n",
            "Epoch [119/300], loss: 0.03088844 val_loss: 0.03299060\n",
            "Epoch [120/300], loss: 0.03074310 val_loss: 0.03289967\n",
            "Epoch [121/300], loss: 0.03059287 val_loss: 0.03264725\n",
            "Epoch [122/300], loss: 0.03047375 val_loss: 0.03258176\n",
            "Epoch [123/300], loss: 0.03029262 val_loss: 0.03231380\n",
            "Epoch [124/300], loss: 0.03020193 val_loss: 0.03220661\n",
            "Epoch [125/300], loss: 0.03005221 val_loss: 0.03201976\n",
            "Epoch [126/300], loss: 0.02993452 val_loss: 0.03198369\n",
            "Epoch [127/300], loss: 0.02984669 val_loss: 0.03160439\n",
            "Epoch [128/300], loss: 0.02966214 val_loss: 0.03162279\n",
            "Epoch [129/300], loss: 0.02956573 val_loss: 0.03155929\n",
            "Epoch [130/300], loss: 0.02944308 val_loss: 0.03126242\n",
            "Epoch [131/300], loss: 0.02934400 val_loss: 0.03114998\n",
            "Epoch [132/300], loss: 0.02931021 val_loss: 0.03085775\n",
            "Epoch [133/300], loss: 0.02911400 val_loss: 0.03112342\n",
            "Epoch [134/300], loss: 0.02912167 val_loss: 0.03068064\n",
            "Epoch [135/300], loss: 0.02910555 val_loss: 0.03097034\n",
            "Epoch [136/300], loss: 0.02890267 val_loss: 0.03037455\n",
            "Epoch [137/300], loss: 0.02881873 val_loss: 0.03051342\n",
            "Epoch [138/300], loss: 0.02867753 val_loss: 0.03039827\n",
            "Epoch [139/300], loss: 0.02856303 val_loss: 0.03017145\n",
            "Epoch [140/300], loss: 0.02854526 val_loss: 0.03004118\n",
            "Epoch [141/300], loss: 0.02842543 val_loss: 0.03018839\n",
            "Epoch [142/300], loss: 0.02839990 val_loss: 0.02996330\n",
            "Epoch [143/300], loss: 0.02834558 val_loss: 0.02967480\n",
            "Epoch [144/300], loss: 0.02826853 val_loss: 0.02994796\n",
            "Epoch [145/300], loss: 0.02822758 val_loss: 0.02956061\n",
            "Epoch [146/300], loss: 0.02808062 val_loss: 0.02959768\n",
            "Epoch [147/300], loss: 0.02800624 val_loss: 0.02960935\n",
            "Epoch [148/300], loss: 0.02794314 val_loss: 0.02945872\n",
            "Epoch [149/300], loss: 0.02789801 val_loss: 0.02940695\n",
            "Epoch [150/300], loss: 0.02787213 val_loss: 0.02926159\n",
            "Epoch [151/300], loss: 0.02777906 val_loss: 0.02940657\n",
            "Epoch [152/300], loss: 0.02773091 val_loss: 0.02928333\n",
            "Epoch [153/300], loss: 0.02768326 val_loss: 0.02908420\n",
            "Epoch [154/300], loss: 0.02761381 val_loss: 0.02915762\n",
            "Epoch [155/300], loss: 0.02760578 val_loss: 0.02900957\n",
            "Epoch [156/300], loss: 0.02759617 val_loss: 0.02881454\n",
            "Epoch [157/300], loss: 0.02752423 val_loss: 0.02898647\n",
            "Epoch [158/300], loss: 0.02745366 val_loss: 0.02899041\n",
            "Epoch [159/300], loss: 0.02743527 val_loss: 0.02883422\n",
            "Epoch [160/300], loss: 0.02740260 val_loss: 0.02861504\n",
            "Epoch [161/300], loss: 0.02743339 val_loss: 0.02888082\n",
            "Epoch [162/300], loss: 0.02731360 val_loss: 0.02854984\n",
            "Epoch [163/300], loss: 0.02729861 val_loss: 0.02866111\n",
            "Epoch [164/300], loss: 0.02725080 val_loss: 0.02856079\n",
            "Epoch [165/300], loss: 0.02720270 val_loss: 0.02843322\n",
            "Epoch [166/300], loss: 0.02716622 val_loss: 0.02848032\n",
            "Epoch [167/300], loss: 0.02716024 val_loss: 0.02848646\n",
            "Epoch [168/300], loss: 0.02712213 val_loss: 0.02842992\n",
            "Epoch [169/300], loss: 0.02718111 val_loss: 0.02820525\n",
            "Epoch [170/300], loss: 0.02713035 val_loss: 0.02850555\n",
            "Epoch [171/300], loss: 0.02703943 val_loss: 0.02817869\n",
            "Epoch [172/300], loss: 0.02702876 val_loss: 0.02822379\n",
            "Epoch [173/300], loss: 0.02699364 val_loss: 0.02827856\n",
            "Epoch [174/300], loss: 0.02696206 val_loss: 0.02819520\n",
            "Epoch [175/300], loss: 0.02691752 val_loss: 0.02807886\n",
            "Epoch [176/300], loss: 0.02690312 val_loss: 0.02807740\n",
            "Epoch [177/300], loss: 0.02688451 val_loss: 0.02815031\n",
            "Epoch [178/300], loss: 0.02685508 val_loss: 0.02808232\n",
            "Epoch [179/300], loss: 0.02686643 val_loss: 0.02811039\n",
            "Epoch [180/300], loss: 0.02681760 val_loss: 0.02794828\n",
            "Epoch [181/300], loss: 0.02678768 val_loss: 0.02808048\n",
            "Epoch [182/300], loss: 0.02681435 val_loss: 0.02790629\n",
            "Epoch [183/300], loss: 0.02674879 val_loss: 0.02803236\n",
            "Epoch [184/300], loss: 0.02671327 val_loss: 0.02785513\n",
            "Epoch [185/300], loss: 0.02671839 val_loss: 0.02793698\n",
            "Epoch [186/300], loss: 0.02670551 val_loss: 0.02773733\n",
            "Epoch [187/300], loss: 0.02672594 val_loss: 0.02797003\n",
            "Epoch [188/300], loss: 0.02669036 val_loss: 0.02767101\n",
            "Epoch [189/300], loss: 0.02667108 val_loss: 0.02778789\n",
            "Epoch [190/300], loss: 0.02658605 val_loss: 0.02798941\n",
            "Epoch [191/300], loss: 0.02666004 val_loss: 0.02777276\n",
            "Epoch [192/300], loss: 0.02657945 val_loss: 0.02785681\n",
            "Epoch [193/300], loss: 0.02655994 val_loss: 0.02769560\n",
            "Epoch [194/300], loss: 0.02653030 val_loss: 0.02771716\n",
            "Epoch [195/300], loss: 0.02651658 val_loss: 0.02767705\n",
            "Epoch [196/300], loss: 0.02652007 val_loss: 0.02774717\n",
            "Epoch [197/300], loss: 0.02650368 val_loss: 0.02766517\n",
            "Epoch [198/300], loss: 0.02649339 val_loss: 0.02757817\n",
            "Epoch [199/300], loss: 0.02648428 val_loss: 0.02763908\n",
            "Epoch [200/300], loss: 0.02646536 val_loss: 0.02772757\n",
            "Epoch [201/300], loss: 0.02645542 val_loss: 0.02757107\n",
            "Epoch [202/300], loss: 0.02651325 val_loss: 0.02745856\n",
            "Epoch [203/300], loss: 0.02642058 val_loss: 0.02765780\n",
            "Epoch [204/300], loss: 0.02639447 val_loss: 0.02750497\n",
            "Epoch [205/300], loss: 0.02638860 val_loss: 0.02751654\n",
            "Epoch [206/300], loss: 0.02636286 val_loss: 0.02754888\n",
            "Epoch [207/300], loss: 0.02639055 val_loss: 0.02742463\n",
            "Epoch [208/300], loss: 0.02634235 val_loss: 0.02755065\n",
            "Epoch [209/300], loss: 0.02631258 val_loss: 0.02752191\n",
            "Epoch [210/300], loss: 0.02635913 val_loss: 0.02742550\n",
            "Epoch [211/300], loss: 0.02630921 val_loss: 0.02759548\n",
            "Epoch [212/300], loss: 0.02628154 val_loss: 0.02738076\n",
            "Epoch [213/300], loss: 0.02626269 val_loss: 0.02749503\n",
            "Epoch [214/300], loss: 0.02627373 val_loss: 0.02732393\n",
            "Epoch [215/300], loss: 0.02625383 val_loss: 0.02748926\n",
            "Epoch [216/300], loss: 0.02621773 val_loss: 0.02735722\n",
            "Epoch [217/300], loss: 0.02621786 val_loss: 0.02738409\n",
            "Epoch [218/300], loss: 0.02619499 val_loss: 0.02739968\n",
            "Epoch [219/300], loss: 0.02618298 val_loss: 0.02722664\n",
            "Epoch [220/300], loss: 0.02617619 val_loss: 0.02724202\n",
            "Epoch [221/300], loss: 0.02616187 val_loss: 0.02743393\n",
            "Epoch [222/300], loss: 0.02613839 val_loss: 0.02730690\n",
            "Epoch [223/300], loss: 0.02612377 val_loss: 0.02726432\n",
            "Epoch [224/300], loss: 0.02614207 val_loss: 0.02717575\n",
            "Epoch [225/300], loss: 0.02609472 val_loss: 0.02736095\n",
            "Epoch [226/300], loss: 0.02608721 val_loss: 0.02732022\n",
            "Epoch [227/300], loss: 0.02607201 val_loss: 0.02719292\n",
            "Epoch [228/300], loss: 0.02605276 val_loss: 0.02718727\n",
            "Epoch [229/300], loss: 0.02603454 val_loss: 0.02716245\n",
            "Epoch [230/300], loss: 0.02603704 val_loss: 0.02718862\n",
            "Epoch [231/300], loss: 0.02601726 val_loss: 0.02715059\n",
            "Epoch [232/300], loss: 0.02601399 val_loss: 0.02713473\n",
            "Epoch [233/300], loss: 0.02597573 val_loss: 0.02712651\n",
            "Epoch [234/300], loss: 0.02595820 val_loss: 0.02707433\n",
            "Epoch [235/300], loss: 0.02597449 val_loss: 0.02710765\n",
            "Epoch [236/300], loss: 0.02603820 val_loss: 0.02720710\n",
            "Epoch [237/300], loss: 0.02593885 val_loss: 0.02703198\n",
            "Epoch [238/300], loss: 0.02593103 val_loss: 0.02714037\n",
            "Epoch [239/300], loss: 0.02595179 val_loss: 0.02708196\n",
            "Epoch [240/300], loss: 0.02588920 val_loss: 0.02730816\n",
            "Epoch [241/300], loss: 0.02591296 val_loss: 0.02706995\n",
            "Epoch [242/300], loss: 0.02588852 val_loss: 0.02714015\n",
            "Epoch [243/300], loss: 0.02587810 val_loss: 0.02699119\n",
            "Epoch [244/300], loss: 0.02584660 val_loss: 0.02708384\n",
            "Epoch [245/300], loss: 0.02584321 val_loss: 0.02691437\n",
            "Epoch [246/300], loss: 0.02586986 val_loss: 0.02703618\n",
            "Epoch [247/300], loss: 0.02586394 val_loss: 0.02701538\n",
            "Epoch [248/300], loss: 0.02585560 val_loss: 0.02708320\n",
            "Epoch [249/300], loss: 0.02585165 val_loss: 0.02688213\n",
            "Epoch [250/300], loss: 0.02577265 val_loss: 0.02721919\n",
            "Epoch [251/300], loss: 0.02577687 val_loss: 0.02689830\n",
            "Epoch [252/300], loss: 0.02575690 val_loss: 0.02692276\n",
            "Epoch [253/300], loss: 0.02575670 val_loss: 0.02694562\n",
            "Epoch [254/300], loss: 0.02575043 val_loss: 0.02700813\n",
            "Epoch [255/300], loss: 0.02570911 val_loss: 0.02685442\n",
            "Epoch [256/300], loss: 0.02573316 val_loss: 0.02686783\n",
            "Epoch [257/300], loss: 0.02569162 val_loss: 0.02679681\n",
            "Epoch [258/300], loss: 0.02572179 val_loss: 0.02673787\n",
            "Epoch [259/300], loss: 0.02573742 val_loss: 0.02693878\n",
            "Epoch [260/300], loss: 0.02564004 val_loss: 0.02682459\n",
            "Epoch [261/300], loss: 0.02569180 val_loss: 0.02692976\n",
            "Epoch [262/300], loss: 0.02566182 val_loss: 0.02683506\n",
            "Epoch [263/300], loss: 0.02565431 val_loss: 0.02676986\n",
            "Epoch [264/300], loss: 0.02563195 val_loss: 0.02673361\n",
            "Epoch [265/300], loss: 0.02563700 val_loss: 0.02691985\n",
            "Epoch [266/300], loss: 0.02561405 val_loss: 0.02663776\n",
            "Epoch [267/300], loss: 0.02558580 val_loss: 0.02680959\n",
            "Epoch [268/300], loss: 0.02558941 val_loss: 0.02686580\n",
            "Epoch [269/300], loss: 0.02555531 val_loss: 0.02673791\n",
            "Epoch [270/300], loss: 0.02557160 val_loss: 0.02660362\n",
            "Epoch [271/300], loss: 0.02553340 val_loss: 0.02679982\n",
            "Epoch [272/300], loss: 0.02553804 val_loss: 0.02677055\n",
            "Epoch [273/300], loss: 0.02554613 val_loss: 0.02660578\n",
            "Epoch [274/300], loss: 0.02552404 val_loss: 0.02660893\n",
            "Epoch [275/300], loss: 0.02547953 val_loss: 0.02664171\n",
            "Epoch [276/300], loss: 0.02547250 val_loss: 0.02663237\n",
            "Epoch [277/300], loss: 0.02545864 val_loss: 0.02656715\n",
            "Epoch [278/300], loss: 0.02548424 val_loss: 0.02680576\n",
            "Epoch [279/300], loss: 0.02540255 val_loss: 0.02648334\n",
            "Epoch [280/300], loss: 0.02555183 val_loss: 0.02669673\n",
            "Epoch [281/300], loss: 0.02544077 val_loss: 0.02663427\n",
            "Epoch [282/300], loss: 0.02542978 val_loss: 0.02661010\n",
            "Epoch [283/300], loss: 0.02540587 val_loss: 0.02654632\n",
            "Epoch [284/300], loss: 0.02538650 val_loss: 0.02662195\n",
            "Epoch [285/300], loss: 0.02543815 val_loss: 0.02654330\n",
            "Epoch [286/300], loss: 0.02535395 val_loss: 0.02655963\n",
            "Epoch [287/300], loss: 0.02540511 val_loss: 0.02650882\n",
            "Epoch [288/300], loss: 0.02532193 val_loss: 0.02664667\n",
            "Epoch [289/300], loss: 0.02537760 val_loss: 0.02647331\n",
            "Epoch [290/300], loss: 0.02543583 val_loss: 0.02669293\n",
            "Epoch [291/300], loss: 0.02535072 val_loss: 0.02638315\n",
            "Epoch [292/300], loss: 0.02532425 val_loss: 0.02654569\n",
            "Epoch [293/300], loss: 0.02528426 val_loss: 0.02646701\n",
            "Epoch [294/300], loss: 0.02526166 val_loss: 0.02645470\n",
            "Epoch [295/300], loss: 0.02525235 val_loss: 0.02646580\n",
            "Epoch [296/300], loss: 0.02523087 val_loss: 0.02640425\n",
            "Epoch [297/300], loss: 0.02523552 val_loss: 0.02633399\n",
            "Epoch [298/300], loss: 0.02527392 val_loss: 0.02637394\n",
            "Epoch [299/300], loss: 0.02522698 val_loss: 0.02645636\n",
            "Epoch [300/300], loss: 0.02521605 val_loss: 0.02648659\n",
            "time\n",
            "126.22 sec\n"
          ]
        }
      ],
      "source": [
        "history=model.fit_and_valid(train_loader, test_loader, criterion, optimizer, epochs=300, regularization=True, mono_lambda=0.2)"
      ]
    },
    {
      "cell_type": "markdown",
      "metadata": {
        "id": "AYKGngVUOLWJ"
      },
      "source": [
        "## 学習結果の表示\n",
        "学習後の決定係数、パラメータ、学習曲線を表示します。"
      ]
    },
    {
      "cell_type": "code",
      "execution_count": 9,
      "metadata": {
        "colab": {
          "base_uri": "https://localhost:8080/"
        },
        "id": "ifaZZ3wLBaR6",
        "outputId": "8ccb7ee9-a92e-4a93-bec0-8529d52e84c4"
      },
      "outputs": [
        {
          "output_type": "execute_result",
          "data": {
            "text/plain": [
              "0.6066135832200655"
            ]
          },
          "metadata": {},
          "execution_count": 9
        }
      ],
      "source": [
        "model.r2_score(test_loader)"
      ]
    },
    {
      "cell_type": "code",
      "execution_count": 10,
      "metadata": {
        "colab": {
          "base_uri": "https://localhost:8080/"
        },
        "id": "zKKuuTSL-YdO",
        "outputId": "92d7c94c-f1a4-4b1d-8be3-f5b1cb1e61c7"
      },
      "outputs": [
        {
          "output_type": "execute_result",
          "data": {
            "text/plain": [
              "OrderedDict([('preprocessing1.weight', tensor([[2.0168]], device='cuda:0')),\n",
              "             ('preprocessing1.bias', tensor([-1.1311], device='cuda:0')),\n",
              "             ('preprocessing2.weight', tensor([[1.9731]], device='cuda:0')),\n",
              "             ('preprocessing2.bias', tensor([-0.9913], device='cuda:0')),\n",
              "             ('preprocessing3.weight', tensor([[1.1841]], device='cuda:0')),\n",
              "             ('preprocessing3.bias', tensor([-0.6695], device='cuda:0')),\n",
              "             ('preprocessing4.weight', tensor([[2.8193]], device='cuda:0')),\n",
              "             ('preprocessing4.bias', tensor([-0.3705], device='cuda:0')),\n",
              "             ('preprocessing5.weight', tensor([[1.6606]], device='cuda:0')),\n",
              "             ('preprocessing5.bias', tensor([-0.8405], device='cuda:0')),\n",
              "             ('preprocessing6.weight', tensor([[2.1701]], device='cuda:0')),\n",
              "             ('preprocessing6.bias', tensor([-1.0103], device='cuda:0')),\n",
              "             ('output.weight',\n",
              "              tensor([[0.0043, 0.0012, 0.0560, 0.0021, 0.0032, 0.0019, 0.0397, 0.0286, 0.2105,\n",
              "                       0.1116, 0.3381, 0.0441, 0.1887, 0.1037, 0.2522, 0.0060, 0.0512, 0.0081,\n",
              "                       0.1165, 0.3723, 0.0768]], device='cuda:0')),\n",
              "             ('output.bias', tensor([-0.4684], device='cuda:0'))])"
            ]
          },
          "metadata": {},
          "execution_count": 10
        }
      ],
      "source": [
        "model.state_dict()"
      ]
    },
    {
      "cell_type": "code",
      "execution_count": 11,
      "metadata": {
        "colab": {
          "base_uri": "https://localhost:8080/"
        },
        "id": "aTUwRs1aBaR7",
        "outputId": "c96d5155-b319-49fc-d212-6004e1469e26"
      },
      "outputs": [
        {
          "output_type": "execute_result",
          "data": {
            "text/plain": [
              "[]"
            ]
          },
          "metadata": {},
          "execution_count": 11
        }
      ],
      "source": [
        "model.test_monotone()"
      ]
    },
    {
      "cell_type": "code",
      "execution_count": 12,
      "metadata": {
        "colab": {
          "base_uri": "https://localhost:8080/",
          "height": 544
        },
        "id": "HmaUGv0YFBPC",
        "outputId": "c78bf236-70ef-4370-a1d1-c500cfce6175"
      },
      "outputs": [
        {
          "output_type": "display_data",
          "data": {
            "text/plain": [
              "<Figure size 800x600 with 1 Axes>"
            ],
            "image/png": "[encoded data removed]"
          },
          "metadata": {}
        },
        {
          "output_type": "execute_result",
          "data": {
            "text/plain": [
              "0"
            ]
          },
          "metadata": {},
          "execution_count": 12
        }
      ],
      "source": [
        "model.plot()"
      ]
    },
    {
      "cell_type": "code",
      "execution_count": 13,
      "metadata": {
        "colab": {
          "base_uri": "https://localhost:8080/",
          "height": 544
        },
        "id": "AEEvm7v-_Loz",
        "outputId": "8455d69d-c276-4817-9cec-9111a91627ea"
      },
      "outputs": [
        {
          "output_type": "display_data",
          "data": {
            "text/plain": [
              "<Figure size 800x600 with 1 Axes>"
            ],
            "image/png": "[encoded data removed]"
          },
          "metadata": {}
        },
        {
          "output_type": "execute_result",
          "data": {
            "text/plain": [
              "0"
            ]
          },
          "metadata": {},
          "execution_count": 13
        }
      ],
      "source": [
        "model.plot_train()"
      ]
    },
    {
      "cell_type": "code",
      "execution_count": 14,
      "metadata": {
        "colab": {
          "base_uri": "https://localhost:8080/",
          "height": 544
        },
        "id": "tv86_fVM_fnL",
        "outputId": "e846b4ba-37ba-4281-d985-64d3d61f1c2f"
      },
      "outputs": [
        {
          "output_type": "display_data",
          "data": {
            "text/plain": [
              "<Figure size 800x600 with 1 Axes>"
            ],
            "image/png": "[encoded data removed]"
          },
          "metadata": {}
        },
        {
          "output_type": "execute_result",
          "data": {
            "text/plain": [
              "0"
            ]
          },
          "metadata": {},
          "execution_count": 14
        }
      ],
      "source": [
        "model.plot_test()"
      ]
    },
    {
      "cell_type": "code",
      "execution_count": 15,
      "metadata": {
        "scrolled": true,
        "colab": {
          "base_uri": "https://localhost:8080/"
        },
        "id": "kEAokpIgBaR8",
        "outputId": "12ae535f-8caa-4dce-fbe0-759a0d4aaa9b"
      },
      "outputs": [
        {
          "output_type": "execute_result",
          "data": {
            "text/plain": [
              "{(): np.float64(0.0),\n",
              " (1,): np.float64(0.004259772598743439),\n",
              " (2,): np.float64(0.0011550397612154484),\n",
              " (3,): np.float64(0.056044165045022964),\n",
              " (4,): np.float64(0.002132269786670804),\n",
              " (5,): np.float64(0.003244962077587843),\n",
              " (6,): np.float64(0.001933518797159195),\n",
              " (1, 2): np.float64(0.045140443835407495),\n",
              " (1, 3): np.float64(0.08891399577260017),\n",
              " (1, 4): np.float64(0.2169094041455537),\n",
              " (1, 5): np.float64(0.11909649102017283),\n",
              " (1, 6): np.float64(0.3443389944732189),\n",
              " (2, 3): np.float64(0.10134157771244645),\n",
              " (2, 4): np.float64(0.1919390948023647),\n",
              " (2, 5): np.float64(0.10809470154345036),\n",
              " (2, 6): np.float64(0.2552909501828253),\n",
              " (3, 4): np.float64(0.06413453980349004),\n",
              " (3, 5): np.float64(0.11047194851562381),\n",
              " (3, 6): np.float64(0.0660296818241477),\n",
              " (4, 5): np.float64(0.1218384641688317),\n",
              " (4, 6): np.float64(0.37635973771102726),\n",
              " (5, 6): np.float64(0.0819876859895885),\n",
              " (1, 2, 3): np.float64(0.17393703991547227),\n",
              " (1, 2, 4): np.float64(0.4464418606366962),\n",
              " (1, 2, 5): np.float64(0.26367186196148396),\n",
              " (1, 2, 6): np.float64(0.6374220573343337),\n",
              " (1, 3, 4): np.float64(0.3075217322912067),\n",
              " (1, 3, 5): np.float64(0.25493353558704257),\n",
              " (1, 3, 6): np.float64(0.4370452156290412),\n",
              " (1, 4, 5): np.float64(0.44820735487155616),\n",
              " (1, 4, 6): np.float64(0.9292825751472265),\n",
              " (1, 5, 6): np.float64(0.5359849180094898),\n",
              " (2, 3, 4): np.float64(0.298083737725392),\n",
              " (2, 3, 5): np.float64(0.25946406088769436),\n",
              " (2, 3, 6): np.float64(0.36352948611602187),\n",
              " (2, 4, 5): np.float64(0.4153399888891727),\n",
              " (2, 4, 6): np.float64(0.8183689543511719),\n",
              " (2, 5, 6): np.float64(0.4390398170799017),\n",
              " (3, 4, 5): np.float64(0.23502355557866395),\n",
              " (3, 4, 6): np.float64(0.44641400570981205),\n",
              " (3, 5, 6): np.float64(0.19726667040959),\n",
              " (4, 5, 6): np.float64(0.5728751372080296),\n",
              " (1, 2, 3, 4): np.float64(0.5811965616885573),\n",
              " (1, 2, 3, 5): np.float64(0.44365127943456173),\n",
              " (1, 2, 3, 6): np.float64(0.774270651396364),\n",
              " (1, 2, 4, 5): np.float64(0.7814345110673457),\n",
              " (1, 2, 4, 6): np.float64(1.4110174232628196),\n",
              " (1, 2, 5, 6): np.float64(0.9327626805752516),\n",
              " (1, 3, 4, 5): np.float64(0.5900025044102222),\n",
              " (1, 3, 4, 6): np.float64(1.027946901274845),\n",
              " (1, 3, 5, 6): np.float64(0.679873960558325),\n",
              " (1, 4, 5, 6): np.float64(1.2373897309880704),\n",
              " (2, 3, 4, 5): np.float64(0.572667453205213),\n",
              " (2, 3, 4, 6): np.float64(0.9325655952561647),\n",
              " (2, 3, 5, 6): np.float64(0.5984611744061112),\n",
              " (2, 4, 5, 6): np.float64(1.1185790535528213),\n",
              " (3, 4, 5, 6): np.float64(0.6941122265998274),\n",
              " (1, 2, 3, 4, 5): np.float64(0.9673720335122198),\n",
              " (1, 2, 3, 4, 6): np.float64(1.5538241222966462),\n",
              " (1, 2, 3, 5, 6): np.float64(1.120794096030295),\n",
              " (1, 2, 4, 5, 6): np.float64(1.8228192788083106),\n",
              " (1, 3, 4, 5, 6): np.float64(1.387236878508702),\n",
              " (2, 3, 4, 5, 6): np.float64(1.283958515850827),\n",
              " (1, 2, 3, 4, 5, 6): np.float64(2.01680879923515)}"
            ]
          },
          "metadata": {},
          "execution_count": 15
        }
      ],
      "source": [
        "model.mobius_to_fuzzy()"
      ]
    },
    {
      "cell_type": "code",
      "execution_count": 16,
      "metadata": {
        "colab": {
          "base_uri": "https://localhost:8080/"
        },
        "id": "DEfcQj-uBaR8",
        "outputId": "beb245b6-e2f8-41eb-be28-ba6ede1625e8"
      },
      "outputs": [
        {
          "output_type": "execute_result",
          "data": {
            "text/plain": [
              "{(1,): 0.3685550279915333,\n",
              " (2,): 0.3153634802438319,\n",
              " (3,): 0.12501684273593128,\n",
              " (4,): 0.44907348649576306,\n",
              " (5,): 0.2331148195080459,\n",
              " (6,): 0.5256851422600448}"
            ]
          },
          "metadata": {},
          "execution_count": 16
        }
      ],
      "source": [
        "model.shapley()"
      ]
    },
    {
      "cell_type": "code",
      "execution_count": 17,
      "metadata": {
        "colab": {
          "base_uri": "https://localhost:8080/",
          "height": 581
        },
        "id": "h3GBzHBIBaR8",
        "outputId": "69a36995-6445-4104-b1d7-935309b6e862"
      },
      "outputs": [
        {
          "output_type": "display_data",
          "data": {
            "text/plain": [
              "<Figure size 1000x600 with 1 Axes>"
            ],
            "image/png": "[encoded data removed]"
          },
          "metadata": {}
        },
        {
          "output_type": "execute_result",
          "data": {
            "text/plain": [
              "0"
            ]
          },
          "metadata": {},
          "execution_count": 17
        }
      ],
      "source": [
        "model.shapley_plot(X.columns)"
      ]
    },
    {
      "cell_type": "code",
      "execution_count": null,
      "metadata": {
        "id": "ZkdDy6eiBaR8"
      },
      "outputs": [],
      "source": [
        "# model.param_exp()"
      ]
    },
    {
      "cell_type": "code",
      "execution_count": null,
      "metadata": {
        "id": "2Vywp1xxBaR8"
      },
      "outputs": [],
      "source": []
    }
  ],
  "metadata": {
    "accelerator": "GPU",
    "colab": {
      "provenance": []
    },
    "gpuClass": "standard",
    "kernelspec": {
      "display_name": "Python 3 (ipykernel)",
      "language": "python",
      "name": "python3"
    },
    "language_info": {
      "codemirror_mode": {
        "name": "ipython",
        "version": 3
      },
      "file_extension": ".py",
      "mimetype": "text/x-python",
      "name": "python",
      "nbconvert_exporter": "python",
      "pygments_lexer": "ipython3",
      "version": "3.12.4"
    }
  },
  "nbformat": 4,
  "nbformat_minor": 0
}